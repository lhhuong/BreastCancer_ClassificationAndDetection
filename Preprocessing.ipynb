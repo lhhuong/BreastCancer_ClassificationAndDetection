{
 "cells": [
  {
   "cell_type": "markdown",
   "id": "4f0c0be6",
   "metadata": {
    "papermill": {
     "duration": 0.007816,
     "end_time": "2024-02-01T06:32:44.108429",
     "exception": false,
     "start_time": "2024-02-01T06:32:44.100613",
     "status": "completed"
    },
    "tags": []
   },
   "source": [
    "# Install packages"
   ]
  },
  {
   "cell_type": "code",
   "execution_count": null,
   "id": "0286570d",
   "metadata": {
    "execution": {
     "iopub.execute_input": "2024-02-01T06:32:44.125585Z",
     "iopub.status.busy": "2024-02-01T06:32:44.124820Z",
     "iopub.status.idle": "2024-02-01T06:33:00.680262Z",
     "shell.execute_reply": "2024-02-01T06:33:00.679102Z"
    },
    "papermill": {
     "duration": 16.566865,
     "end_time": "2024-02-01T06:33:00.682913",
     "exception": false,
     "start_time": "2024-02-01T06:32:44.116048",
     "status": "completed"
    },
    "tags": []
   },
   "outputs": [],
   "source": [
    "!pip install seam-carving"
   ]
  },
  {
   "cell_type": "markdown",
   "id": "1610f015",
   "metadata": {
    "papermill": {
     "duration": 0.007694,
     "end_time": "2024-02-01T06:33:00.698753",
     "exception": false,
     "start_time": "2024-02-01T06:33:00.691059",
     "status": "completed"
    },
    "tags": []
   },
   "source": [
    "# Một số lưu ý về dataset\n",
    "\n",
    "There are also several things you should note:\n",
    "The list is arranged in pairs of films, where each pair represents the left (even filename numbers) and right mammograms (odd filename numbers) of a single patient.\n",
    "The size of all the images is 1024 pixels x 1024 pixels. The images have been centered in the matrix.\n",
    "When calcifications are present, centre locations and radii apply to clusters rather than individual calcifications. Coordinate system origin is the bottom-left corner.\n",
    "In some cases calcifications are widely distributed throughout the image rather than concentrated at a single site. In these cases centre locations and radii are inappropriate and have been omitted."
   ]
  },
  {
   "cell_type": "markdown",
   "id": "c76d214f",
   "metadata": {
    "papermill": {
     "duration": 0.007944,
     "end_time": "2024-02-01T06:33:00.714895",
     "exception": false,
     "start_time": "2024-02-01T06:33:00.706951",
     "status": "completed"
    },
    "tags": []
   },
   "source": [
    "# Import"
   ]
  },
  {
   "cell_type": "code",
   "execution_count": null,
   "id": "c129d2d9",
   "metadata": {
    "execution": {
     "iopub.execute_input": "2024-02-01T06:33:00.733025Z",
     "iopub.status.busy": "2024-02-01T06:33:00.732548Z",
     "iopub.status.idle": "2024-02-01T06:33:33.148821Z",
     "shell.execute_reply": "2024-02-01T06:33:33.147546Z"
    },
    "papermill": {
     "duration": 32.428701,
     "end_time": "2024-02-01T06:33:33.151648",
     "exception": false,
     "start_time": "2024-02-01T06:33:00.722947",
     "status": "completed"
    },
    "tags": []
   },
   "outputs": [],
   "source": [
    "import numpy as np\n",
    "import pandas as pd\n",
    "\n",
    "import matplotlib.pyplot as plt\n",
    "import seam_carving\n",
    "\n",
    "import os, cv2, math\n",
    "import tensorflow as tf\n",
    "from shutil import copyfile\n",
    "from tqdm import tqdm\n",
    "from sklearn.model_selection import train_test_split"
   ]
  },
  {
   "cell_type": "markdown",
   "id": "81490c82",
   "metadata": {
    "papermill": {
     "duration": 0.008293,
     "end_time": "2024-02-01T06:33:33.168120",
     "exception": false,
     "start_time": "2024-02-01T06:33:33.159827",
     "status": "completed"
    },
    "tags": []
   },
   "source": [
    "# Define load image and show image"
   ]
  },
  {
   "cell_type": "code",
   "execution_count": null,
   "id": "0b55d29e",
   "metadata": {
    "_cell_guid": "b1076dfc-b9ad-4769-8c92-a6c4dae69d19",
    "_uuid": "8f2839f25d086af736a60e9eeb907d3b93b6e0e5",
    "execution": {
     "iopub.execute_input": "2024-02-01T06:33:33.186741Z",
     "iopub.status.busy": "2024-02-01T06:33:33.186006Z",
     "iopub.status.idle": "2024-02-01T06:33:33.762982Z",
     "shell.execute_reply": "2024-02-01T06:33:33.762040Z"
    },
    "papermill": {
     "duration": 0.589205,
     "end_time": "2024-02-01T06:33:33.765661",
     "exception": false,
     "start_time": "2024-02-01T06:33:33.176456",
     "status": "completed"
    },
    "tags": []
   },
   "outputs": [],
   "source": [
    "def plt_show(figsize=(15, 8), height=2, **kwargs):\n",
    "    \n",
    "    n = len(kwargs)\n",
    "    w = math.ceil(n / height)\n",
    "    h = height\n",
    "    plt.figure(figsize=figsize)\n",
    "    items = list(kwargs.items())\n",
    "    i = 0\n",
    "    for title, image in items:\n",
    "        plt.subplot(h, w, i + 1)\n",
    "        plt.imshow(image)\n",
    "        plt.title(title, color='blue', fontsize=12)\n",
    "#         plt.axis('off')\n",
    "        i += 1\n",
    "    \n",
    "    plt.show()\n",
    "\n",
    "# Replace 'your_image.pgm' with the actual path to your PGM image file\n",
    "sample_img = cv2.imread('/kaggle/input/mias-mammography/all-mias/mdb019.pgm')\n",
    "plt_show(figsize=(30, 10), sample_image=sample_img)"
   ]
  },
  {
   "cell_type": "markdown",
   "id": "2a166ca2",
   "metadata": {
    "papermill": {
     "duration": 0.009359,
     "end_time": "2024-02-01T06:33:33.785457",
     "exception": false,
     "start_time": "2024-02-01T06:33:33.776098",
     "status": "completed"
    },
    "tags": []
   },
   "source": [
    "## Load all images"
   ]
  },
  {
   "cell_type": "code",
   "execution_count": null,
   "id": "9ec09a8b",
   "metadata": {
    "execution": {
     "iopub.execute_input": "2024-02-01T06:33:33.807126Z",
     "iopub.status.busy": "2024-02-01T06:33:33.806464Z",
     "iopub.status.idle": "2024-02-01T06:33:33.810648Z",
     "shell.execute_reply": "2024-02-01T06:33:33.809791Z"
    },
    "papermill": {
     "duration": 0.018021,
     "end_time": "2024-02-01T06:33:33.813131",
     "exception": false,
     "start_time": "2024-02-01T06:33:33.795110",
     "status": "completed"
    },
    "tags": []
   },
   "outputs": [],
   "source": [
    "dataset_path = \"/kaggle/input/mias-mammography/all-mias/\"\n",
    "ext = '.pgm'"
   ]
  },
  {
   "cell_type": "code",
   "execution_count": null,
   "id": "b2565016",
   "metadata": {
    "execution": {
     "iopub.execute_input": "2024-02-01T06:33:33.834554Z",
     "iopub.status.busy": "2024-02-01T06:33:33.834096Z",
     "iopub.status.idle": "2024-02-01T06:33:33.907195Z",
     "shell.execute_reply": "2024-02-01T06:33:33.906044Z"
    },
    "papermill": {
     "duration": 0.086872,
     "end_time": "2024-02-01T06:33:33.909759",
     "exception": false,
     "start_time": "2024-02-01T06:33:33.822887",
     "status": "completed"
    },
    "tags": []
   },
   "outputs": [],
   "source": [
    "raw_df = pd.read_csv('/kaggle/input/mias-mammography/Info.txt', delimiter=' ')\n",
    "df = raw_df.loc[:,['REFNUM', 'SEVERITY', 'X', 'Y', 'RADIUS']]\n",
    "df.SEVERITY.fillna(\"NORMAL\", inplace=True)\n",
    "df.rename(columns={ \"SEVERITY\": \"label\", \"REFNUM\": \"image_id\" }, inplace=True)\n",
    "\n",
    "# Tọa độ dataset tính từ góc trái dưới, lưu ý\n",
    "# Cần chuyển về tọa độ theo góc trái trên\n",
    "df['Y'] = 1024 - df['Y']\n",
    "df['x1'] = df['X'] - df['RADIUS']\n",
    "df['y1'] = df['Y'] - df['RADIUS']\n",
    "df['x2'] = df['X'] + df['RADIUS']\n",
    "df['y2'] = df['Y'] + df['RADIUS']\n",
    "\n",
    "df = df[[\"image_id\", \"label\", \"x1\", \"y1\", \"x2\", \"y2\"]]\n",
    "error_df = df.loc[(df.label != \"NORMAL\") & (df.x1.isnull())]\n",
    "df"
   ]
  },
  {
   "cell_type": "markdown",
   "id": "bb9d0881",
   "metadata": {
    "papermill": {
     "duration": 0.009874,
     "end_time": "2024-02-01T06:33:33.930089",
     "exception": false,
     "start_time": "2024-02-01T06:33:33.920215",
     "status": "completed"
    },
    "tags": []
   },
   "source": [
    "## Dection data error"
   ]
  },
  {
   "cell_type": "code",
   "execution_count": null,
   "id": "d63eb0f9",
   "metadata": {
    "execution": {
     "iopub.execute_input": "2024-02-01T06:33:33.951945Z",
     "iopub.status.busy": "2024-02-01T06:33:33.951516Z",
     "iopub.status.idle": "2024-02-01T06:33:35.563927Z",
     "shell.execute_reply": "2024-02-01T06:33:35.562964Z"
    },
    "papermill": {
     "duration": 1.627317,
     "end_time": "2024-02-01T06:33:35.567594",
     "exception": false,
     "start_time": "2024-02-01T06:33:33.940277",
     "status": "completed"
    },
    "tags": []
   },
   "outputs": [],
   "source": [
    "error_df.head()\n",
    "error_dict = dict()\n",
    "for i in error_df.index:\n",
    "    \n",
    "    path = os.path.join(dataset_path, error_df.image_id.loc[i] + ext)\n",
    "    img = cv2.imread(path)\n",
    "    error_dict[f'{i} - IMG'] = img\n",
    "\n",
    "plt_show(**error_dict)"
   ]
  },
  {
   "cell_type": "markdown",
   "id": "5349ecc3",
   "metadata": {
    "papermill": {
     "duration": 0.012335,
     "end_time": "2024-02-01T06:33:35.592767",
     "exception": false,
     "start_time": "2024-02-01T06:33:35.580432",
     "status": "completed"
    },
    "tags": []
   },
   "source": [
    "## Show abnormal images with bbox"
   ]
  },
  {
   "cell_type": "code",
   "execution_count": null,
   "id": "a5ec5740",
   "metadata": {
    "execution": {
     "iopub.execute_input": "2024-02-01T06:33:35.620354Z",
     "iopub.status.busy": "2024-02-01T06:33:35.619540Z",
     "iopub.status.idle": "2024-02-01T06:33:37.722928Z",
     "shell.execute_reply": "2024-02-01T06:33:37.721962Z"
    },
    "papermill": {
     "duration": 2.123332,
     "end_time": "2024-02-01T06:33:37.728828",
     "exception": false,
     "start_time": "2024-02-01T06:33:35.605496",
     "status": "completed"
    },
    "tags": []
   },
   "outputs": [],
   "source": [
    "samples = df.loc[(df.label != \"NORMAL\") & (df.x1.notnull())].sample(5)\n",
    "samples_dict = dict()\n",
    "for i in samples.index:\n",
    "    path = os.path.join(dataset_path, samples.image_id.loc[i] + ext)\n",
    "    img = cv2.imread(path)\n",
    "    bbox = samples.loc[i, ['x1', 'y1', 'x2', 'y2']].astype(int).tolist()\n",
    "    \n",
    "    img = cv2.rectangle(img, (bbox[0], bbox[1]), (bbox[2], bbox[3]), (255, 0, 0), 5)\n",
    "    samples_dict[f'{i} - IMG - {samples.label.loc[i]}'] = img\n",
    "\n",
    "plt_show(figsize=(20, 10), **samples_dict)"
   ]
  },
  {
   "cell_type": "markdown",
   "id": "90565292",
   "metadata": {
    "papermill": {
     "duration": 0.0172,
     "end_time": "2024-02-01T06:33:37.763449",
     "exception": false,
     "start_time": "2024-02-01T06:33:37.746249",
     "status": "completed"
    },
    "tags": []
   },
   "source": [
    "# Data Distribution"
   ]
  },
  {
   "cell_type": "code",
   "execution_count": null,
   "id": "81838e59",
   "metadata": {
    "execution": {
     "iopub.execute_input": "2024-02-01T06:33:37.802426Z",
     "iopub.status.busy": "2024-02-01T06:33:37.801400Z",
     "iopub.status.idle": "2024-02-01T06:33:38.032337Z",
     "shell.execute_reply": "2024-02-01T06:33:38.031190Z"
    },
    "papermill": {
     "duration": 0.252704,
     "end_time": "2024-02-01T06:33:38.034992",
     "exception": false,
     "start_time": "2024-02-01T06:33:37.782288",
     "status": "completed"
    },
    "tags": []
   },
   "outputs": [],
   "source": [
    "from collections import defaultdict\n",
    "import matplotlib.pyplot as plt\n",
    "import numpy as np\n",
    "\n",
    "distributor = defaultdict(int)\n",
    "\n",
    "for i in df.index:\n",
    "    distributor[df.label[i]] += 1\n",
    "\n",
    "distributor_x = np.array(list(distributor.keys()))\n",
    "distributor_y = np.array(list(distributor.values()))\n",
    "\n",
    "plt.bar(distributor_x, distributor_y, color = \"red\")\n",
    "plt.show()"
   ]
  },
  {
   "cell_type": "markdown",
   "id": "492e1d04",
   "metadata": {
    "papermill": {
     "duration": 0.017754,
     "end_time": "2024-02-01T06:33:38.070853",
     "exception": false,
     "start_time": "2024-02-01T06:33:38.053099",
     "status": "completed"
    },
    "tags": []
   },
   "source": [
    "# Transform datasets"
   ]
  },
  {
   "cell_type": "markdown",
   "id": "8c4ba0d9",
   "metadata": {
    "papermill": {
     "duration": 0.017816,
     "end_time": "2024-02-01T06:33:38.106734",
     "exception": false,
     "start_time": "2024-02-01T06:33:38.088918",
     "status": "completed"
    },
    "tags": []
   },
   "source": [
    "## Define preprocessing function"
   ]
  },
  {
   "cell_type": "code",
   "execution_count": null,
   "id": "c415896c",
   "metadata": {
    "execution": {
     "iopub.execute_input": "2024-02-01T06:33:38.144960Z",
     "iopub.status.busy": "2024-02-01T06:33:38.144485Z",
     "iopub.status.idle": "2024-02-01T06:33:53.833541Z",
     "shell.execute_reply": "2024-02-01T06:33:53.832324Z"
    },
    "papermill": {
     "duration": 15.711536,
     "end_time": "2024-02-01T06:33:53.836316",
     "exception": false,
     "start_time": "2024-02-01T06:33:38.124780",
     "status": "completed"
    },
    "tags": []
   },
   "outputs": [],
   "source": [
    "def preprocessing(origin_img):\n",
    "    \n",
    "    mask_size = (224, 224)\n",
    "    origin_size = (origin_img.shape[1], origin_img.shape[0])\n",
    "    \n",
    "    resized = cv2.resize(origin_img, mask_size, interpolation=cv2.INTER_AREA)\n",
    "    h, w, _ = resized.shape\n",
    "    gray = cv2.cvtColor(resized, cv2.COLOR_BGR2GRAY)\n",
    "    thresh = 255 - cv2.threshold(gray, 0, 255, cv2.THRESH_BINARY_INV + cv2.THRESH_OTSU)[1]\n",
    "    \n",
    "    # Filter using contour area and remove small noise\n",
    "    cnts, _ = cv2.findContours(thresh, cv2.RETR_TREE, cv2.CHAIN_APPROX_SIMPLE)\n",
    "    cnts = list(filter(lambda c: cv2.contourArea(c) < (3000 * w / 224) , cnts))\n",
    "    contour = cv2.threshold(gray, 0, 255, cv2.THRESH_BINARY_INV + cv2.THRESH_OTSU)[1]\n",
    "    cv2.drawContours(contour, cnts, -1, (255,255,255), thickness=cv2.FILLED)\n",
    "    \n",
    "    # Morph close and invert image\n",
    "    kernel = cv2.getStructuringElement(cv2.MORPH_RECT, (3, 3))\n",
    "    close = 255 - cv2.morphologyEx(contour, cv2.MORPH_CLOSE, kernel, iterations=2)\n",
    "    \n",
    "    xor_mask = cv2.bitwise_xor(thresh, close)\n",
    "    drop_mask = cv2.morphologyEx(xor_mask, cv2.MORPH_OPEN, kernel, iterations=2)\n",
    "    drop_mask_expanded = cv2.resize(drop_mask, origin_size, interpolation=cv2.INTER_AREA)\n",
    "    close_expanded = cv2.resize(close, origin_size, interpolation=cv2.INTER_AREA)\n",
    "    drop_noise = seam_carving.resize(origin_img, drop_mask=drop_mask_expanded, keep_mask=close_expanded)\n",
    "    expander = (0, origin_size[0] - drop_noise.shape[1])\n",
    "    out = np.pad(drop_noise, [(0, 0), expander, (0, 0)], mode='constant')\n",
    "    \n",
    "    pipeline = {\n",
    "        'origin': origin_img,\n",
    "        'thresholding': thresh,\n",
    "        'filled_contour': contour,\n",
    "        'morph_close': close,\n",
    "        'xor_mask': xor_mask,\n",
    "        'drop_mask': drop_mask,\n",
    "        'drop_noise': drop_noise,\n",
    "        'out': out\n",
    "    }\n",
    "    \n",
    "    return pipeline\n",
    "\n",
    "samples = df.sample(5)\n",
    "for i in samples.index:\n",
    "    \n",
    "    sample_path = os.path.join(dataset_path, df.image_id.loc[i] + ext)\n",
    "    print(sample_path)\n",
    "    sample_img = cv2.imread(sample_path)\n",
    "    sample_pipeline = preprocessing(sample_img)\n",
    "    plt_show(figsize=(15, 8), **sample_pipeline)"
   ]
  },
  {
   "cell_type": "markdown",
   "id": "578b16d3",
   "metadata": {
    "papermill": {
     "duration": 0.027836,
     "end_time": "2024-02-01T06:33:53.892579",
     "exception": false,
     "start_time": "2024-02-01T06:33:53.864743",
     "status": "completed"
    },
    "tags": []
   },
   "source": [
    "## 1. YOLO format for detection"
   ]
  },
  {
   "cell_type": "markdown",
   "id": "1d40e76d",
   "metadata": {
    "papermill": {
     "duration": 0.028003,
     "end_time": "2024-02-01T06:33:53.948963",
     "exception": false,
     "start_time": "2024-02-01T06:33:53.920960",
     "status": "completed"
    },
    "tags": []
   },
   "source": [
    "### Phase 3 - Detection on ABNORMAL"
   ]
  },
  {
   "cell_type": "code",
   "execution_count": null,
   "id": "8bd54c1c",
   "metadata": {
    "execution": {
     "iopub.execute_input": "2024-02-01T06:33:54.008253Z",
     "iopub.status.busy": "2024-02-01T06:33:54.007084Z",
     "iopub.status.idle": "2024-02-01T06:33:54.040725Z",
     "shell.execute_reply": "2024-02-01T06:33:54.039561Z"
    },
    "papermill": {
     "duration": 0.065994,
     "end_time": "2024-02-01T06:33:54.043326",
     "exception": false,
     "start_time": "2024-02-01T06:33:53.977332",
     "status": "completed"
    },
    "tags": []
   },
   "outputs": [],
   "source": [
    "df['x_center'] = ((df['x1'] + df['x2']) / 2048).fillna(0.5)\n",
    "df['y_center'] = ((df['y1'] + df['y2']) / 2048).fillna(0.5)\n",
    "df['box_width'] = ((df['x1'] - df['x2']).map(abs) / 1024).fillna(1)\n",
    "df['box_height'] = ((df['y1'] - df['y2']).map(abs) / 1024).fillna(1)\n",
    "df"
   ]
  },
  {
   "cell_type": "code",
   "execution_count": null,
   "id": "7f4110ac",
   "metadata": {
    "execution": {
     "iopub.execute_input": "2024-02-01T06:33:54.103769Z",
     "iopub.status.busy": "2024-02-01T06:33:54.103157Z",
     "iopub.status.idle": "2024-02-01T06:33:54.112934Z",
     "shell.execute_reply": "2024-02-01T06:33:54.111788Z"
    },
    "papermill": {
     "duration": 0.042832,
     "end_time": "2024-02-01T06:33:54.115312",
     "exception": false,
     "start_time": "2024-02-01T06:33:54.072480",
     "status": "completed"
    },
    "tags": []
   },
   "outputs": [],
   "source": [
    "train_df, valid_df = train_test_split(df, test_size=0.2, stratify=df.label)\n",
    "train_df.shape, valid_df.shape"
   ]
  },
  {
   "cell_type": "code",
   "execution_count": null,
   "id": "febbd44f",
   "metadata": {
    "execution": {
     "iopub.execute_input": "2024-02-01T06:33:54.177624Z",
     "iopub.status.busy": "2024-02-01T06:33:54.176906Z",
     "iopub.status.idle": "2024-02-01T06:33:54.208103Z",
     "shell.execute_reply": "2024-02-01T06:33:54.206913Z"
    },
    "papermill": {
     "duration": 0.065458,
     "end_time": "2024-02-01T06:33:54.210685",
     "exception": false,
     "start_time": "2024-02-01T06:33:54.145227",
     "status": "completed"
    },
    "tags": []
   },
   "outputs": [],
   "source": [
    "train_df['split'] = 'train'\n",
    "valid_df['split'] = 'val'\n",
    "ph3_df = pd.concat([\n",
    "    train_df,\n",
    "    valid_df,\n",
    "]).reset_index(drop=True)\n",
    "ph3_df"
   ]
  },
  {
   "cell_type": "code",
   "execution_count": null,
   "id": "4b8c0b35",
   "metadata": {
    "execution": {
     "iopub.execute_input": "2024-02-01T06:33:54.272458Z",
     "iopub.status.busy": "2024-02-01T06:33:54.272013Z",
     "iopub.status.idle": "2024-02-01T06:45:30.499701Z",
     "shell.execute_reply": "2024-02-01T06:45:30.498458Z"
    },
    "papermill": {
     "duration": 696.262813,
     "end_time": "2024-02-01T06:45:30.503000",
     "exception": false,
     "start_time": "2024-02-01T06:33:54.240187",
     "status": "completed"
    },
    "tags": []
   },
   "outputs": [],
   "source": [
    "dst_path = '/kaggle/working/datasets/detect/'\n",
    "dst_ext = '.png'\n",
    "\n",
    "for i in tqdm(ph3_df.index):\n",
    "    \n",
    "    img_id = ph3_df.image_id.loc[i]\n",
    "    pgmfile = img_id + ext\n",
    "    path = os.path.join(dataset_path, pgmfile)\n",
    "    \n",
    "    img = cv2.imread(path) # (1024, 1024, 3)\n",
    "    img_path = os.path.join(dst_path, ph3_df.split.loc[i], \"images\", img_id + dst_ext)\n",
    "    label_path = os.path.join(dst_path, ph3_df.split.loc[i], \"labels\", img_id + '.txt')\n",
    "    os.makedirs(os.path.dirname(img_path), exist_ok=True)\n",
    "    os.makedirs(os.path.dirname(label_path), exist_ok=True)\n",
    "    \n",
    "    \n",
    "    class_idx = ['NORMAL', 'B', 'M'].index(ph3_df.label.loc[i])\n",
    "    x_center = ph3_df.x_center.loc[i]\n",
    "    y_center = ph3_df.y_center.loc[i]\n",
    "    box_width = ph3_df.box_width.loc[i]\n",
    "    box_height = ph3_df.box_height.loc[i]\n",
    "    if class_idx != 0:\n",
    "        plt.imsave(img_path, img)\n",
    "        with open(label_path, 'a') as f:\n",
    "            f.write(f'{0} {x_center} {y_center} {box_width} {box_height}')\n",
    "            f.write('\\n')\n",
    "\n",
    "dst_path = '/kaggle/working/processed_datasets/detect/'\n",
    "for i in tqdm(ph3_df.index):\n",
    "    \n",
    "    img_id = ph3_df.image_id.loc[i]\n",
    "    pgmfile = img_id + ext\n",
    "    path = os.path.join(dataset_path, pgmfile)\n",
    "    \n",
    "    img = cv2.imread(path) # (1024, 1024, 3)\n",
    "    img = preprocessing(img)['out']\n",
    "    img_path = os.path.join(dst_path, ph3_df.split.loc[i], \"images\", img_id + dst_ext)\n",
    "    label_path = os.path.join(dst_path, ph3_df.split.loc[i], \"labels\", img_id + '.txt')\n",
    "    os.makedirs(os.path.dirname(img_path), exist_ok=True)\n",
    "    os.makedirs(os.path.dirname(label_path), exist_ok=True)\n",
    "    \n",
    "    \n",
    "    class_idx = ['NORMAL', 'B', 'M'].index(ph3_df.label.loc[i])\n",
    "    x_center = ph3_df.x_center.loc[i]\n",
    "    y_center = ph3_df.y_center.loc[i]\n",
    "    box_width = ph3_df.box_width.loc[i]\n",
    "    box_height = ph3_df.box_height.loc[i]\n",
    "    if class_idx != 0:\n",
    "        plt.imsave(img_path, img)\n",
    "        with open(label_path, 'a') as f:\n",
    "            f.write(f'{0} {x_center} {y_center} {box_width} {box_height}')\n",
    "            f.write('\\n')\n",
    "    "
   ]
  },
  {
   "cell_type": "markdown",
   "id": "a79c4e85",
   "metadata": {
    "papermill": {
     "duration": 0.063349,
     "end_time": "2024-02-01T06:45:30.630518",
     "exception": false,
     "start_time": "2024-02-01T06:45:30.567169",
     "status": "completed"
    },
    "tags": []
   },
   "source": [
    "## 2.Classification"
   ]
  },
  {
   "cell_type": "code",
   "execution_count": null,
   "id": "65518224",
   "metadata": {
    "execution": {
     "iopub.execute_input": "2024-02-01T06:45:30.760071Z",
     "iopub.status.busy": "2024-02-01T06:45:30.759596Z",
     "iopub.status.idle": "2024-02-01T06:45:30.787065Z",
     "shell.execute_reply": "2024-02-01T06:45:30.785922Z"
    },
    "papermill": {
     "duration": 0.095525,
     "end_time": "2024-02-01T06:45:30.789490",
     "exception": false,
     "start_time": "2024-02-01T06:45:30.693965",
     "status": "completed"
    },
    "tags": []
   },
   "outputs": [],
   "source": [
    "df"
   ]
  },
  {
   "cell_type": "code",
   "execution_count": null,
   "id": "76510b8e",
   "metadata": {
    "execution": {
     "iopub.execute_input": "2024-02-01T06:45:30.919515Z",
     "iopub.status.busy": "2024-02-01T06:45:30.919103Z",
     "iopub.status.idle": "2024-02-01T06:58:38.938067Z",
     "shell.execute_reply": "2024-02-01T06:58:38.936758Z"
    },
    "papermill": {
     "duration": 788.087325,
     "end_time": "2024-02-01T06:58:38.940707",
     "exception": false,
     "start_time": "2024-02-01T06:45:30.853382",
     "status": "completed"
    },
    "tags": []
   },
   "outputs": [],
   "source": [
    "dst_path = '/kaggle/working/datasets/clasify/'\n",
    "\n",
    "for i in tqdm(df.index):\n",
    "    \n",
    "    img_id = df.image_id.loc[i]\n",
    "    pgmfile = img_id + ext\n",
    "    path = os.path.join(dataset_path, pgmfile)\n",
    "    \n",
    "    img = cv2.imread(path) # (1024, 1024, 3)\n",
    "    img_path = os.path.join(dst_path, df.label.loc[i], img_id + dst_ext)\n",
    "    label_path = os.path.join(dst_path, ph3_df.label.loc[i], img_id + '.txt')\n",
    "    os.makedirs(os.path.dirname(img_path), exist_ok=True)\n",
    "    os.makedirs(os.path.dirname(label_path), exist_ok=True)\n",
    "    \n",
    "    plt.imsave(img_path, img)\n",
    "\n",
    "dst_path = '/kaggle/working/processed_datasets/clasify/'\n",
    "for i in tqdm(df.index):\n",
    "    \n",
    "    img_id = df.image_id.loc[i]\n",
    "    pgmfile = img_id + ext\n",
    "    path = os.path.join(dataset_path, pgmfile)\n",
    "    \n",
    "    img = cv2.imread(path) # (1024, 1024, 3)\n",
    "    img = preprocessing(img)['out']\n",
    "    img_path = os.path.join(dst_path, df.label.loc[i], img_id + dst_ext)\n",
    "    label_path = os.path.join(dst_path, ph3_df.label.loc[i], img_id + '.txt')\n",
    "    os.makedirs(os.path.dirname(img_path), exist_ok=True)\n",
    "    os.makedirs(os.path.dirname(label_path), exist_ok=True)\n",
    "    \n",
    "    plt.imsave(img_path, img)"
   ]
  }
 ],
 "metadata": {
  "kaggle": {
   "accelerator": "none",
   "dataSources": [
    {
     "datasetId": 3748,
     "sourceId": 5967,
     "sourceType": "datasetVersion"
    }
   ],
   "dockerImageVersionId": 30626,
   "isGpuEnabled": false,
   "isInternetEnabled": true,
   "language": "python",
   "sourceType": "notebook"
  },
  "kernelspec": {
   "display_name": "Python 3",
   "language": "python",
   "name": "python3"
  },
  "language_info": {
   "codemirror_mode": {
    "name": "ipython",
    "version": 3
   },
   "file_extension": ".py",
   "mimetype": "text/x-python",
   "name": "python",
   "nbconvert_exporter": "python",
   "pygments_lexer": "ipython3",
   "version": "3.10.12"
  },
  "papermill": {
   "default_parameters": {},
   "duration": 1561.970787,
   "end_time": "2024-02-01T06:58:41.570021",
   "environment_variables": {},
   "exception": null,
   "input_path": "__notebook__.ipynb",
   "output_path": "__notebook__.ipynb",
   "parameters": {},
   "start_time": "2024-02-01T06:32:39.599234",
   "version": "2.4.0"
  }
 },
 "nbformat": 4,
 "nbformat_minor": 5
}
