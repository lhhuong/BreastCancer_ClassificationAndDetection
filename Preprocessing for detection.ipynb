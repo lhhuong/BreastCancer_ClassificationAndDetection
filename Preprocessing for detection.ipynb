{
 "cells": [
  {
   "cell_type": "markdown",
   "id": "223579ab",
   "metadata": {
    "papermill": {
     "duration": 0.00762,
     "end_time": "2024-02-02T12:19:42.577215",
     "exception": false,
     "start_time": "2024-02-02T12:19:42.569595",
     "status": "completed"
    },
    "tags": []
   },
   "source": [
    "# Install packages"
   ]
  },
  {
   "cell_type": "markdown",
   "id": "73515b35",
   "metadata": {
    "papermill": {
     "duration": 0.006834,
     "end_time": "2024-02-02T12:19:42.591359",
     "exception": false,
     "start_time": "2024-02-02T12:19:42.584525",
     "status": "completed"
    },
    "tags": []
   },
   "source": [
    "# Một số lưu ý về dataset\n",
    "\n",
    "There are also several things you should note:\n",
    "The list is arranged in pairs of films, where each pair represents the left (even filename numbers) and right mammograms (odd filename numbers) of a single patient.\n",
    "The size of all the images is 1024 pixels x 1024 pixels. The images have been centered in the matrix.\n",
    "When calcifications are present, centre locations and radii apply to clusters rather than individual calcifications. Coordinate system origin is the bottom-left corner.\n",
    "In some cases calcifications are widely distributed throughout the image rather than concentrated at a single site. In these cases centre locations and radii are inappropriate and have been omitted."
   ]
  },
  {
   "cell_type": "markdown",
   "id": "5b662f97",
   "metadata": {
    "papermill": {
     "duration": 0.006826,
     "end_time": "2024-02-02T12:19:42.605445",
     "exception": false,
     "start_time": "2024-02-02T12:19:42.598619",
     "status": "completed"
    },
    "tags": []
   },
   "source": [
    "# Import"
   ]
  },
  {
   "cell_type": "code",
   "execution_count": null,
   "id": "657f62db",
   "metadata": {
    "execution": {
     "iopub.execute_input": "2024-02-02T12:19:42.622143Z",
     "iopub.status.busy": "2024-02-02T12:19:42.621621Z",
     "iopub.status.idle": "2024-02-02T12:20:00.136785Z",
     "shell.execute_reply": "2024-02-02T12:20:00.135207Z"
    },
    "papermill": {
     "duration": 17.52751,
     "end_time": "2024-02-02T12:20:00.140075",
     "exception": false,
     "start_time": "2024-02-02T12:19:42.612565",
     "status": "completed"
    },
    "tags": []
   },
   "outputs": [],
   "source": [
    "import numpy as np\n",
    "import pandas as pd\n",
    "\n",
    "import matplotlib.pyplot as plt\n",
    "\n",
    "import os, cv2, math\n",
    "import tensorflow as tf\n",
    "from shutil import copyfile\n",
    "from tqdm import tqdm\n",
    "from sklearn.model_selection import train_test_split"
   ]
  },
  {
   "cell_type": "markdown",
   "id": "9e3925c5",
   "metadata": {
    "papermill": {
     "duration": 0.008075,
     "end_time": "2024-02-02T12:20:00.156408",
     "exception": false,
     "start_time": "2024-02-02T12:20:00.148333",
     "status": "completed"
    },
    "tags": []
   },
   "source": [
    "# Define load image and show image"
   ]
  },
  {
   "cell_type": "code",
   "execution_count": null,
   "id": "7e17521d",
   "metadata": {
    "_cell_guid": "b1076dfc-b9ad-4769-8c92-a6c4dae69d19",
    "_uuid": "8f2839f25d086af736a60e9eeb907d3b93b6e0e5",
    "execution": {
     "iopub.execute_input": "2024-02-02T12:20:00.177065Z",
     "iopub.status.busy": "2024-02-02T12:20:00.175660Z",
     "iopub.status.idle": "2024-02-02T12:20:00.950672Z",
     "shell.execute_reply": "2024-02-02T12:20:00.949789Z"
    },
    "papermill": {
     "duration": 0.789614,
     "end_time": "2024-02-02T12:20:00.954025",
     "exception": false,
     "start_time": "2024-02-02T12:20:00.164411",
     "status": "completed"
    },
    "tags": []
   },
   "outputs": [],
   "source": [
    "def plt_show(figsize=(15, 8), height=2, **kwargs):\n",
    "    \n",
    "    n = len(kwargs)\n",
    "    w = math.ceil(n / height)\n",
    "    h = height\n",
    "    plt.figure(figsize=figsize)\n",
    "    items = list(kwargs.items())\n",
    "    i = 0\n",
    "    for title, image in items:\n",
    "        plt.subplot(h, w, i + 1)\n",
    "        plt.imshow(image)\n",
    "        plt.title(title, color='blue', fontsize=12)\n",
    "#         plt.axis('off')\n",
    "        i += 1\n",
    "    \n",
    "    plt.show()\n",
    "\n",
    "# Replace 'your_image.pgm' with the actual path to your PGM image file\n",
    "sample_img = cv2.imread('/kaggle/input/mias-mammography/all-mias/mdb019.pgm', 2)\n",
    "plt_show(figsize=(30, 10), sample_image=sample_img)"
   ]
  },
  {
   "cell_type": "markdown",
   "id": "56ebc325",
   "metadata": {
    "papermill": {
     "duration": 0.009172,
     "end_time": "2024-02-02T12:20:00.972473",
     "exception": false,
     "start_time": "2024-02-02T12:20:00.963301",
     "status": "completed"
    },
    "tags": []
   },
   "source": [
    "## Load all images"
   ]
  },
  {
   "cell_type": "code",
   "execution_count": null,
   "id": "f70b486f",
   "metadata": {
    "execution": {
     "iopub.execute_input": "2024-02-02T12:20:00.993574Z",
     "iopub.status.busy": "2024-02-02T12:20:00.992798Z",
     "iopub.status.idle": "2024-02-02T12:20:00.997280Z",
     "shell.execute_reply": "2024-02-02T12:20:00.996388Z"
    },
    "papermill": {
     "duration": 0.017723,
     "end_time": "2024-02-02T12:20:00.999669",
     "exception": false,
     "start_time": "2024-02-02T12:20:00.981946",
     "status": "completed"
    },
    "tags": []
   },
   "outputs": [],
   "source": [
    "dataset_path = \"/kaggle/input/mias-mammography/all-mias/\"\n",
    "ext = '.pgm'"
   ]
  },
  {
   "cell_type": "code",
   "execution_count": null,
   "id": "4104636e",
   "metadata": {
    "execution": {
     "iopub.execute_input": "2024-02-02T12:20:01.020775Z",
     "iopub.status.busy": "2024-02-02T12:20:01.020036Z",
     "iopub.status.idle": "2024-02-02T12:20:01.090397Z",
     "shell.execute_reply": "2024-02-02T12:20:01.089099Z"
    },
    "papermill": {
     "duration": 0.083972,
     "end_time": "2024-02-02T12:20:01.093261",
     "exception": false,
     "start_time": "2024-02-02T12:20:01.009289",
     "status": "completed"
    },
    "tags": []
   },
   "outputs": [],
   "source": [
    "raw_df = pd.read_csv('/kaggle/input/mias-mammography/Info.txt', delimiter=' ')\n",
    "df = raw_df.loc[:,['REFNUM', 'SEVERITY', 'X', 'Y', 'RADIUS']]\n",
    "# Tọa độ dataset tính từ góc trái dưới, lưu ý\n",
    "# Cần chuyển về tọa độ theo góc trái trên\n",
    "df['Y'] = 1024 - df['Y']\n",
    "df['x1'] = np.round(df['X'] - df['RADIUS'] )\n",
    "df['y1'] = np.round(df['Y'] - df['RADIUS'] )\n",
    "df['x2'] = np.round(df['X'] + df['RADIUS'] )\n",
    "df['y2'] = np.round(df['Y'] + df['RADIUS'] )\n",
    "\n",
    "df = df[[\"REFNUM\", \"SEVERITY\", \"x1\", \"y1\", \"x2\", \"y2\"]]\n",
    "df"
   ]
  },
  {
   "cell_type": "markdown",
   "id": "bc50c227",
   "metadata": {
    "papermill": {
     "duration": 0.009496,
     "end_time": "2024-02-02T12:20:01.112714",
     "exception": false,
     "start_time": "2024-02-02T12:20:01.103218",
     "status": "completed"
    },
    "tags": []
   },
   "source": [
    "## Show abnormal images with bbox"
   ]
  },
  {
   "cell_type": "code",
   "execution_count": null,
   "id": "14d15427",
   "metadata": {
    "execution": {
     "iopub.execute_input": "2024-02-02T12:20:01.134547Z",
     "iopub.status.busy": "2024-02-02T12:20:01.134118Z",
     "iopub.status.idle": "2024-02-02T12:20:01.156532Z",
     "shell.execute_reply": "2024-02-02T12:20:01.155613Z"
    },
    "papermill": {
     "duration": 0.037469,
     "end_time": "2024-02-02T12:20:01.159934",
     "exception": false,
     "start_time": "2024-02-02T12:20:01.122465",
     "status": "completed"
    },
    "tags": []
   },
   "outputs": [],
   "source": [
    "abnormal_df = df.loc[df.SEVERITY.notnull() & (df.x1.notnull())]\n",
    "abnormal_df"
   ]
  },
  {
   "cell_type": "code",
   "execution_count": null,
   "id": "2d315ec4",
   "metadata": {
    "execution": {
     "iopub.execute_input": "2024-02-02T12:20:01.182313Z",
     "iopub.status.busy": "2024-02-02T12:20:01.181845Z",
     "iopub.status.idle": "2024-02-02T12:20:03.415747Z",
     "shell.execute_reply": "2024-02-02T12:20:03.414655Z"
    },
    "papermill": {
     "duration": 2.251657,
     "end_time": "2024-02-02T12:20:03.422044",
     "exception": false,
     "start_time": "2024-02-02T12:20:01.170387",
     "status": "completed"
    },
    "tags": []
   },
   "outputs": [],
   "source": [
    "samples = abnormal_df.sample(5)\n",
    "samples_dict = dict()\n",
    "for i in samples.index:\n",
    "    path = os.path.join(dataset_path, samples.REFNUM.loc[i] + ext)\n",
    "    img = cv2.imread(path)\n",
    "    bbox = samples.loc[i, ['x1', 'y1', 'x2', 'y2']].astype(int).tolist()\n",
    "    \n",
    "    img = cv2.rectangle(img, (bbox[0], bbox[1]), (bbox[2], bbox[3]), (255, 0, 0), 2)\n",
    "    samples_dict[f'{i} - IMG - {samples.SEVERITY.loc[i]}'] = img\n",
    "\n",
    "plt_show(figsize=(20, 10), **samples_dict)"
   ]
  },
  {
   "cell_type": "markdown",
   "id": "21175364",
   "metadata": {
    "papermill": {
     "duration": 0.016363,
     "end_time": "2024-02-02T12:20:03.454280",
     "exception": false,
     "start_time": "2024-02-02T12:20:03.437917",
     "status": "completed"
    },
    "tags": []
   },
   "source": [
    "# Data Distribution"
   ]
  },
  {
   "cell_type": "code",
   "execution_count": null,
   "id": "31dc0d5a",
   "metadata": {
    "execution": {
     "iopub.execute_input": "2024-02-02T12:20:03.489595Z",
     "iopub.status.busy": "2024-02-02T12:20:03.489204Z",
     "iopub.status.idle": "2024-02-02T12:20:03.706759Z",
     "shell.execute_reply": "2024-02-02T12:20:03.705577Z"
    },
    "papermill": {
     "duration": 0.237669,
     "end_time": "2024-02-02T12:20:03.709462",
     "exception": false,
     "start_time": "2024-02-02T12:20:03.471793",
     "status": "completed"
    },
    "tags": []
   },
   "outputs": [],
   "source": [
    "from collections import defaultdict\n",
    "import matplotlib.pyplot as plt\n",
    "import numpy as np\n",
    "\n",
    "distributor = defaultdict(int)\n",
    "\n",
    "for i in abnormal_df.index:\n",
    "    distributor[abnormal_df.SEVERITY.loc[i]] += 1\n",
    "\n",
    "distributor_x = np.array(list(distributor.keys()))\n",
    "distributor_y = np.array(list(distributor.values()))\n",
    "\n",
    "plt.bar(distributor_x, distributor_y, color = \"red\")\n",
    "plt.show()"
   ]
  },
  {
   "cell_type": "markdown",
   "id": "0b17ce31",
   "metadata": {
    "papermill": {
     "duration": 0.015861,
     "end_time": "2024-02-02T12:20:03.741406",
     "exception": false,
     "start_time": "2024-02-02T12:20:03.725545",
     "status": "completed"
    },
    "tags": []
   },
   "source": [
    "# Transform datasets"
   ]
  },
  {
   "cell_type": "markdown",
   "id": "715f110b",
   "metadata": {
    "papermill": {
     "duration": 0.016131,
     "end_time": "2024-02-02T12:20:03.773632",
     "exception": false,
     "start_time": "2024-02-02T12:20:03.757501",
     "status": "completed"
    },
    "tags": []
   },
   "source": [
    "## 1. Data augumentation"
   ]
  },
  {
   "cell_type": "code",
   "execution_count": null,
   "id": "1ac94cc5",
   "metadata": {
    "execution": {
     "iopub.execute_input": "2024-02-02T12:20:03.808976Z",
     "iopub.status.busy": "2024-02-02T12:20:03.808589Z",
     "iopub.status.idle": "2024-02-02T12:20:03.814311Z",
     "shell.execute_reply": "2024-02-02T12:20:03.813217Z"
    },
    "papermill": {
     "duration": 0.026079,
     "end_time": "2024-02-02T12:20:03.816845",
     "exception": false,
     "start_time": "2024-02-02T12:20:03.790766",
     "status": "completed"
    },
    "tags": []
   },
   "outputs": [],
   "source": [
    "def read_image(refnum):\n",
    "    path = os.path.join(dataset_path, refnum + ext)\n",
    "    img = cv2.imread(path, 1)\n",
    "#     img = cv2.resize(img, (640, 640), interpolation=cv2.INTER_AREA)\n",
    "    return img"
   ]
  },
  {
   "cell_type": "code",
   "execution_count": null,
   "id": "df2cc77d",
   "metadata": {
    "execution": {
     "iopub.execute_input": "2024-02-02T12:20:03.851674Z",
     "iopub.status.busy": "2024-02-02T12:20:03.851276Z",
     "iopub.status.idle": "2024-02-02T12:20:05.118641Z",
     "shell.execute_reply": "2024-02-02T12:20:05.117215Z"
    },
    "papermill": {
     "duration": 1.28984,
     "end_time": "2024-02-02T12:20:05.122842",
     "exception": false,
     "start_time": "2024-02-02T12:20:03.833002",
     "status": "completed"
    },
    "tags": []
   },
   "outputs": [],
   "source": [
    "def combine_images(img1, img2, img3, img4):\n",
    "    # Resize images to have the same dimensions (if needed)\n",
    "    # You can use the functions mentioned below to resize images of different sizes\n",
    "    # Combine images vertically (top left, bottom left)\n",
    "    top_left = cv2.vconcat([img1, img3])\n",
    "    # Combine images vertically (top right, bottom right)\n",
    "    top_right = cv2.vconcat([img2, img4])\n",
    "    # Combine images horizontally (final result)\n",
    "    combined_image = cv2.hconcat([top_left, top_right])\n",
    "    \n",
    "    return combined_image\n",
    "\n",
    "def combine_bboxs(bbox1, bbox2, bbox3, bbox4, size=1024):\n",
    "    for box in bbox2:\n",
    "        box[0] += size\n",
    "        box[2] += size\n",
    "    for box in bbox3:\n",
    "        box[1] += size\n",
    "        box[3] += size\n",
    "    for box in bbox4:\n",
    "        box[0] += size\n",
    "        box[1] += size\n",
    "        box[2] += size\n",
    "        box[3] += size\n",
    "    return [*bbox1, *bbox2, *bbox3, *bbox4]\n",
    "\n",
    "img1 = cv2.imread('/kaggle/input/mias-mammography/all-mias/mdb001.pgm', 1)\n",
    "img2 = cv2.imread('/kaggle/input/mias-mammography/all-mias/mdb002.pgm', 1)\n",
    "img3 = cv2.imread('/kaggle/input/mias-mammography/all-mias/mdb003.pgm', 1)\n",
    "img4 = cv2.imread('/kaggle/input/mias-mammography/all-mias/mdb004.pgm', 1)\n",
    "combine_image = combine_images(img1, img2, img3, img4)\n",
    "\n",
    "plt_show(figsize=(30, 15), combine_image=combine_image)"
   ]
  },
  {
   "cell_type": "code",
   "execution_count": null,
   "id": "21d9ed07",
   "metadata": {
    "execution": {
     "iopub.execute_input": "2024-02-02T12:20:05.165708Z",
     "iopub.status.busy": "2024-02-02T12:20:05.165299Z",
     "iopub.status.idle": "2024-02-02T12:20:06.341369Z",
     "shell.execute_reply": "2024-02-02T12:20:06.340069Z"
    },
    "papermill": {
     "duration": 1.203362,
     "end_time": "2024-02-02T12:20:06.346010",
     "exception": false,
     "start_time": "2024-02-02T12:20:05.142648",
     "status": "completed"
    },
    "tags": []
   },
   "outputs": [],
   "source": [
    "selected_ids = np.random.choice(abnormal_df.REFNUM.unique(), 4, False)\n",
    "images = []\n",
    "bboxs = []\n",
    "for refnum in selected_ids:\n",
    "    img = read_image(refnum)\n",
    "    boxs = []\n",
    "    for i in abnormal_df.loc[abnormal_df.REFNUM == refnum].index:\n",
    "        a, b, c, d = abnormal_df.loc[i, ['x1', 'y1', 'x2', 'y2']]\n",
    "        boxs.append([a, b, c, d])\n",
    "    bboxs.append(boxs)\n",
    "    images.append(img)\n",
    "    \n",
    "aug_image = combine_images(images[0], images[1], images[2], images[3])\n",
    "aug_bboxs = combine_bboxs(bboxs[0], bboxs[1], bboxs[2], bboxs[3])\n",
    "\n",
    "temp = aug_image\n",
    "for rect in aug_bboxs:\n",
    "    rect = list(map(int, rect))\n",
    "    temp = cv2.rectangle(temp, (rect[0], rect[1]), (rect[2], rect[3]), (255, 0, 0), 2)\n",
    "\n",
    "plt_show(figsize=(30, 15), aug_image_with_bbox=temp)"
   ]
  },
  {
   "cell_type": "code",
   "execution_count": null,
   "id": "b73889f4",
   "metadata": {
    "execution": {
     "iopub.execute_input": "2024-02-02T12:20:06.392558Z",
     "iopub.status.busy": "2024-02-02T12:20:06.391590Z",
     "iopub.status.idle": "2024-02-02T12:20:10.366529Z",
     "shell.execute_reply": "2024-02-02T12:20:10.365297Z"
    },
    "papermill": {
     "duration": 4.00104,
     "end_time": "2024-02-02T12:20:10.369281",
     "exception": false,
     "start_time": "2024-02-02T12:20:06.368241",
     "status": "completed"
    },
    "tags": []
   },
   "outputs": [],
   "source": [
    "data_dict = dict()\n",
    "train_test_pivot = len(abnormal_df.REFNUM.unique()) * 0.8\n",
    "for k, refnum in enumerate(abnormal_df.REFNUM.unique()):\n",
    "    image = read_image(refnum)\n",
    "    boxs = []\n",
    "    for i in abnormal_df.loc[abnormal_df.REFNUM == refnum].index:\n",
    "        a, b, c, d = abnormal_df.loc[i, ['x1', 'y1', 'x2', 'y2']]\n",
    "        boxs.append([a, b, c, d])\n",
    "    \n",
    "    data_dict[refnum] = dict(image=image, targets=boxs, mode='train' if k <= train_test_pivot else 'val')\n",
    "\n",
    "len(data_dict)"
   ]
  },
  {
   "cell_type": "code",
   "execution_count": null,
   "id": "4ecb9765",
   "metadata": {
    "execution": {
     "iopub.execute_input": "2024-02-02T12:20:10.417332Z",
     "iopub.status.busy": "2024-02-02T12:20:10.416624Z",
     "iopub.status.idle": "2024-02-02T12:20:28.838286Z",
     "shell.execute_reply": "2024-02-02T12:20:28.836942Z"
    },
    "papermill": {
     "duration": 18.449278,
     "end_time": "2024-02-02T12:20:28.841310",
     "exception": false,
     "start_time": "2024-02-02T12:20:10.392032",
     "status": "completed"
    },
    "tags": []
   },
   "outputs": [],
   "source": [
    "aug_size = 400\n",
    "train_refnums = abnormal_df.REFNUM.unique().tolist()\n",
    "for k in range(aug_size):\n",
    "    selected_ids = np.random.choice(train_refnums, 4, False)\n",
    "    images = []\n",
    "    bboxs = []\n",
    "    for refnum in selected_ids:\n",
    "        img = read_image(refnum)\n",
    "        boxs = []\n",
    "        for i in abnormal_df.loc[abnormal_df.REFNUM == refnum].index:\n",
    "            a, b, c, d = abnormal_df.loc[i, ['x1', 'y1', 'x2', 'y2']]\n",
    "            boxs.append([a, b, c, d])\n",
    "        bboxs.append(boxs)\n",
    "        images.append(img)\n",
    "\n",
    "    aug_image = combine_images(images[0], images[1], images[2], images[3])\n",
    "    aug_bboxs = combine_bboxs(bboxs[0], bboxs[1], bboxs[2], bboxs[3])\n",
    "    aug_refnum = f'aug_{k}'\n",
    "    data_dict[aug_refnum] = dict(image=aug_image, targets=aug_bboxs, mode='train')\n",
    "\n",
    "len(data_dict)"
   ]
  },
  {
   "cell_type": "code",
   "execution_count": null,
   "id": "5917619d",
   "metadata": {
    "execution": {
     "iopub.execute_input": "2024-02-02T12:20:28.887535Z",
     "iopub.status.busy": "2024-02-02T12:20:28.887091Z",
     "iopub.status.idle": "2024-02-02T12:27:48.097515Z",
     "shell.execute_reply": "2024-02-02T12:27:48.096014Z"
    },
    "papermill": {
     "duration": 439.237029,
     "end_time": "2024-02-02T12:27:48.101236",
     "exception": false,
     "start_time": "2024-02-02T12:20:28.864207",
     "status": "completed"
    },
    "tags": []
   },
   "outputs": [],
   "source": [
    "dst_path = '/kaggle/working/datasets/detect/'\n",
    "\n",
    "for refnum in tqdm(data_dict):\n",
    "    \n",
    "    img = data_dict[refnum]['image'] # (1024, 1024, 3)\n",
    "    targets = data_dict[refnum]['targets']\n",
    "    mode = data_dict[refnum]['mode']\n",
    "    img_path = os.path.join(dst_path, mode, \"images\", refnum + '.png')\n",
    "    label_path = os.path.join(dst_path, mode, \"labels\", refnum + '.txt')\n",
    "    os.makedirs(os.path.dirname(img_path), exist_ok=True)\n",
    "    os.makedirs(os.path.dirname(label_path), exist_ok=True)\n",
    "    plt.imsave(img_path, img)\n",
    "    with open(label_path, 'a') as f:\n",
    "        for bbox in targets:\n",
    "            h, w, channel = img.shape\n",
    "            a, b, c, d = bbox\n",
    "            x = (a + c) / (2 * w)\n",
    "            y = (b + d) / (2 * h)\n",
    "            ww = abs(a - c) / w\n",
    "            hh = abs(b - d) / h\n",
    "            f.write(f'{0} {x} {y} {ww} {hh}')\n",
    "            f.write('\\n')\n"
   ]
  }
 ],
 "metadata": {
  "kaggle": {
   "accelerator": "none",
   "dataSources": [
    {
     "datasetId": 3748,
     "sourceId": 5967,
     "sourceType": "datasetVersion"
    }
   ],
   "dockerImageVersionId": 30626,
   "isGpuEnabled": false,
   "isInternetEnabled": true,
   "language": "python",
   "sourceType": "notebook"
  },
  "kernelspec": {
   "display_name": "Python 3",
   "language": "python",
   "name": "python3"
  },
  "language_info": {
   "codemirror_mode": {
    "name": "ipython",
    "version": 3
   },
   "file_extension": ".py",
   "mimetype": "text/x-python",
   "name": "python",
   "nbconvert_exporter": "python",
   "pygments_lexer": "ipython3",
   "version": "3.10.12"
  },
  "papermill": {
   "default_parameters": {},
   "duration": 492.424346,
   "end_time": "2024-02-02T12:27:50.531600",
   "environment_variables": {},
   "exception": null,
   "input_path": "__notebook__.ipynb",
   "output_path": "__notebook__.ipynb",
   "parameters": {},
   "start_time": "2024-02-02T12:19:38.107254",
   "version": "2.4.0"
  }
 },
 "nbformat": 4,
 "nbformat_minor": 5
}
