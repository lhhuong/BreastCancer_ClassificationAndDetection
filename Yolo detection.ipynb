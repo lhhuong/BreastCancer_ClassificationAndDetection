{
 "cells": [
  {
   "cell_type": "code",
   "execution_count": null,
   "id": "932ce431",
   "metadata": {
    "execution": {
     "iopub.execute_input": "2024-02-02T14:45:21.715066Z",
     "iopub.status.busy": "2024-02-02T14:45:21.714672Z",
     "iopub.status.idle": "2024-02-02T14:45:46.723100Z",
     "shell.execute_reply": "2024-02-02T14:45:46.721874Z"
    },
    "papermill": {
     "duration": 25.014593,
     "end_time": "2024-02-02T14:45:46.725205",
     "exception": false,
     "start_time": "2024-02-02T14:45:21.710612",
     "status": "completed"
    },
    "tags": []
   },
   "outputs": [],
   "source": [
    "!pip install ultralytics\n",
    "import torch\n",
    "print(torch.__version__)\n",
    "\n",
    "import ultralytics\n",
    "from ultralytics import YOLO\n",
    "ultralytics.checks()"
   ]
  },
  {
   "cell_type": "code",
   "execution_count": null,
   "id": "23ca9a04",
   "metadata": {
    "_cell_guid": "b1076dfc-b9ad-4769-8c92-a6c4dae69d19",
    "_uuid": "8f2839f25d086af736a60e9eeb907d3b93b6e0e5",
    "execution": {
     "iopub.execute_input": "2024-02-02T14:45:46.732204Z",
     "iopub.status.busy": "2024-02-02T14:45:46.731029Z",
     "iopub.status.idle": "2024-02-02T14:45:46.738648Z",
     "shell.execute_reply": "2024-02-02T14:45:46.737665Z"
    },
    "papermill": {
     "duration": 0.013202,
     "end_time": "2024-02-02T14:45:46.740859",
     "exception": false,
     "start_time": "2024-02-02T14:45:46.727657",
     "status": "completed"
    },
    "tags": []
   },
   "outputs": [],
   "source": [
    "import yaml\n",
    "\n",
    "dataset_info = {\n",
    "    'train': '/kaggle/input/mias-preprocessing-only-for-detection/datasets/detect/train',\n",
    "    'val': '/kaggle/input/mias-preprocessing-only-for-detection/datasets/detect/val',\n",
    "    'nc': 1,\n",
    "    'names': ['abnormal']\n",
    "}\n",
    "\n",
    "with open('data.yaml', 'w') as f:\n",
    "    yaml.dump(dataset_info, f, default_flow_style=None, sort_keys=False)"
   ]
  },
  {
   "cell_type": "code",
   "execution_count": null,
   "id": "1196eae5",
   "metadata": {
    "execution": {
     "iopub.execute_input": "2024-02-02T14:45:46.747850Z",
     "iopub.status.busy": "2024-02-02T14:45:46.746710Z",
     "iopub.status.idle": "2024-02-02T18:55:24.354459Z",
     "shell.execute_reply": "2024-02-02T18:55:24.353030Z"
    },
    "papermill": {
     "duration": 14977.614743,
     "end_time": "2024-02-02T18:55:24.358034",
     "exception": false,
     "start_time": "2024-02-02T14:45:46.743291",
     "status": "completed"
    },
    "tags": []
   },
   "outputs": [],
   "source": [
    "# Load a model\n",
    "model = YOLO('yolov8x.pt') # a pretrained model (recommended for training)\n",
    "# Train the model\n",
    "results = model.train(data='data.yaml', epochs=300, imgsz=640)"
   ]
  }
 ],
 "metadata": {
  "kaggle": {
   "accelerator": "gpu",
   "dataSources": [
    {
     "datasetId": 4305125,
     "sourceId": 7529815,
     "sourceType": "datasetVersion"
    },
    {
     "datasetId": 4389903,
     "sourceId": 7540117,
     "sourceType": "datasetVersion"
    }
   ],
   "dockerImageVersionId": 30635,
   "isGpuEnabled": true,
   "isInternetEnabled": true,
   "language": "python",
   "sourceType": "notebook"
  },
  "kernelspec": {
   "display_name": "Python 3",
   "language": "python",
   "name": "python3"
  },
  "language_info": {
   "codemirror_mode": {
    "name": "ipython",
    "version": 3
   },
   "file_extension": ".py",
   "mimetype": "text/x-python",
   "name": "python",
   "nbconvert_exporter": "python",
   "pygments_lexer": "ipython3",
   "version": "3.10.12"
  },
  "papermill": {
   "default_parameters": {},
   "duration": 15014.11442,
   "end_time": "2024-02-02T18:55:31.849466",
   "environment_variables": {},
   "exception": null,
   "input_path": "__notebook__.ipynb",
   "output_path": "__notebook__.ipynb",
   "parameters": {},
   "start_time": "2024-02-02T14:45:17.735046",
   "version": "2.4.0"
  }
 },
 "nbformat": 4,
 "nbformat_minor": 5
}
